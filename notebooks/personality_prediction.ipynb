{
 "cells": [
  {
   "cell_type": "markdown",
   "id": "respected-general",
   "metadata": {},
   "source": [
    "# Myers-Briggs Personality Type Prediction\n"
   ]
  },
  {
   "cell_type": "markdown",
   "id": "federal-yacht",
   "metadata": {},
   "source": [
    "## 1 - Packages ##\n",
    "\n",
    "Let's first import all the packages that you will need."
   ]
  },
  {
   "cell_type": "code",
   "execution_count": 203,
   "id": "unlikely-power",
   "metadata": {},
   "outputs": [],
   "source": [
    "# Package imports\n",
    "import numpy as np\n",
    "import tensorflow as tf"
   ]
  },
  {
   "cell_type": "markdown",
   "id": "meaningful-providence",
   "metadata": {},
   "source": [
    "## 2 - Dataset ##\n",
    "\n",
    "Let's get the dataset we will work on."
   ]
  },
  {
   "cell_type": "code",
   "execution_count": 222,
   "id": "compact-divide",
   "metadata": {},
   "outputs": [
    {
     "name": "stdout",
     "output_type": "stream",
     "text": [
      "(422845, 2)\n"
     ]
    }
   ],
   "source": [
    "resource_location = \"../data/mbti_1.csv\" # location of the file\n",
    "data = []\n",
    "\n",
    "file = open(resource_location, 'r')\n",
    "lines = file.readlines()[1:]\n",
    "\n",
    "count = 0\n",
    "\n",
    "for line in lines:\n",
    "    personality_type, _, posts = line.partition(\",\")\n",
    "    for post in posts.split(\"|||\"):\n",
    "        example = [post, personality_type]\n",
    "        data.append(example)\n",
    "        if(post.find(\"|||\") != -1):\n",
    "            print(\"hello\")\n",
    "    \n",
    "data = np.asarray(data)\n",
    "print(data.shape)\n"
   ]
  },
  {
   "cell_type": "markdown",
   "id": "comprehensive-healing",
   "metadata": {},
   "source": [
    "## 3 - Splite the dataset column wise ##"
   ]
  },
  {
   "cell_type": "code",
   "execution_count": 223,
   "id": "removable-spoke",
   "metadata": {},
   "outputs": [],
   "source": [
    "X, Y = np.hsplit(data,2)"
   ]
  }
 ],
 "metadata": {
  "kernelspec": {
   "display_name": "Python 3",
   "language": "python",
   "name": "python3"
  },
  "language_info": {
   "codemirror_mode": {
    "name": "ipython",
    "version": 3
   },
   "file_extension": ".py",
   "mimetype": "text/x-python",
   "name": "python",
   "nbconvert_exporter": "python",
   "pygments_lexer": "ipython3",
   "version": "3.8.6"
  }
 },
 "nbformat": 4,
 "nbformat_minor": 5
}
